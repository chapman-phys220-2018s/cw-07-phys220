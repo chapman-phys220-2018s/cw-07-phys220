{
 "cells": [
  {
   "cell_type": "code",
   "execution_count": 1,
   "metadata": {
    "collapsed": false
   },
   "outputs": [
   ],
   "source": [
    "import numpy as np\n",
    "import array_calculus\n",
    "import taylor_approx as ta\n",
    "import matplotlib.pyplot as plt"
   ]
  },
  {
   "cell_type": "markdown",
   "metadata": {
    "collapsed": false
   },
   "source": [
    "# Classwork 07\n",
    "\n",
    "Daniel, Devon, Myranda\n",
    "\n",
    "12 April 2018\n",
    "\n",
    "## Taylor Expansion\n",
    "\n",
    "The taylor series expansion of a function f(x) in a domain around the point a is given by the formula $$f(a + x_0) = \\sum_{n=0}^\\infty \\frac{x_0^n}{n!}\\left[\\frac{d^n}{dx_0^n}f(a+x_0)\\right]_{x_0=0}\\\\ = f(x_0) + f'(x_0)y + f''(x_0)\\frac{x_0^2}{2} + \\cdots$$, where the resulting value is a series of polynomials weighted by the derivative of the function.\n",
    "This formula can be altered in such a way so that computations become more simple for appromixating values. Let $x=a+x_0$. THe formula then becomes: $$f(x) = \\sum_{n=0}^\\infty \\frac{(x-a)^n}{n!}\\left[\\frac{d^n}{dx^n}f(x)\\right]_{x=a}\\\\ = f(a) + f'(a)(x-a) + f''(a)\\frac{(x-a)^2}{2} + \\cdots$$\n",
    "In this form, it is especially clear to see that approximated values of f(x) rely only on the function's derivatives at a and the displacement between the points x and a.\n",
    "\n",
    "## Examples of Expansion Approximation\n",
    "The accuracy of the approximation produced by the Taylor Series Exansion can by tested by comparing values produced by a function and the corresponding Taylor estimate. It is expected that the accuracy of the approximation should improve with the number of terms produced in the sequence. This can be demonstrated for the four functions hyperbolic tangent($f_1(x)=tanh(x)$), $f_2(x)=\\frac{x^2}{10}+\\frac{sin(2x)}{2}$, $f_3(x)=\\frac{1}{x}$, and the Heaviside Theta function ($f_4(x)= {0, x<0; 1/2, x=1/2; 1, x>0})$ on the interval $x\\in[-5,5]$ with the number of terms summed changing between 0 and 5."
   ]
  },
  {
   "cell_type": "code",
   "execution_count": 2,
   "metadata": {
    "collapsed": false
   },
   "outputs": [
   ],
   "source": [
    "#Define the domain space for each function as\n",
    "x = np.linspace(-5,5,1000)"
   ]
  },
  {
   "cell_type": "markdown",
   "metadata": {
    "collapsed": false
   },
   "source": [
    "### 1.Hyperbolic Tangent"
   ]
  },
  {
   "cell_type": "code",
   "execution_count": 3,
   "metadata": {
    "collapsed": false,
    "scrolled": true
   },
   "outputs": [
    {
     "name": "stdout",
     "output_type": "stream",
     "text": [
      "[[ 0.  1.  0. ...,  0.  0.  0.]\n",
      " [-1.  0.  1. ...,  0.  0.  0.]\n",
      " [ 0. -1.  0. ...,  0.  0.  0.]\n",
      " ..., \n",
      " [ 0.  0.  0. ...,  0.  1.  0.]\n",
      " [ 0.  0.  0. ..., -1.  0.  1.]\n",
      " [ 0.  0.  0. ...,  0. -1.  0.]]\n",
      "[[ 0.  1.  0. ...,  0.  0.  0.]\n",
      " [-1.  0.  1. ...,  0.  0.  0.]\n",
      " [ 0. -1.  0. ...,  0.  0.  0.]\n",
      " ..., \n",
      " [ 0.  0.  0. ...,  0.  1.  0.]\n",
      " [ 0.  0.  0. ..., -1.  0.  1.]\n",
      " [ 0.  0.  0. ...,  0. -1.  0.]]\n"
     ]
    },
    {
     "name": "stdout",
     "output_type": "stream",
     "text": [
      "[[ 0.  1.  0. ...,  0.  0.  0.]\n",
      " [-1.  0.  1. ...,  0.  0.  0.]\n",
      " [ 0. -1.  0. ...,  0.  0.  0.]\n",
      " ..., \n",
      " [ 0.  0.  0. ...,  0.  1.  0.]\n",
      " [ 0.  0.  0. ..., -1.  0.  1.]\n",
      " [ 0.  0.  0. ...,  0. -1.  0.]]\n"
     ]
    },
    {
     "name": "stdout",
     "output_type": "stream",
     "text": [
      "[[ 0.  1.  0. ...,  0.  0.  0.]\n",
      " [-1.  0.  1. ...,  0.  0.  0.]\n",
      " [ 0. -1.  0. ...,  0.  0.  0.]\n",
      " ..., \n",
      " [ 0.  0.  0. ...,  0.  1.  0.]\n",
      " [ 0.  0.  0. ..., -1.  0.  1.]\n",
      " [ 0.  0.  0. ...,  0. -1.  0.]]\n"
     ]
    },
    {
     "name": "stdout",
     "output_type": "stream",
     "text": [
      "[[ 0.  1.  0. ...,  0.  0.  0.]\n",
      " [-1.  0.  1. ...,  0.  0.  0.]\n",
      " [ 0. -1.  0. ...,  0.  0.  0.]\n",
      " ..., \n",
      " [ 0.  0.  0. ...,  0.  1.  0.]\n",
      " [ 0.  0.  0. ..., -1.  0.  1.]\n",
      " [ 0.  0.  0. ...,  0. -1.  0.]]\n"
     ]
    },
    {
     "name": "stdout",
     "output_type": "stream",
     "text": [
      "[[ 0.  1.  0. ...,  0.  0.  0.]\n",
      " [-1.  0.  1. ...,  0.  0.  0.]\n",
      " [ 0. -1.  0. ...,  0.  0.  0.]\n",
      " ..., \n",
      " [ 0.  0.  0. ...,  0.  1.  0.]\n",
      " [ 0.  0.  0. ..., -1.  0.  1.]\n",
      " [ 0.  0.  0. ...,  0. -1.  0.]]\n"
     ]
    },
    {
     "data": {
      "image/png": "[encoded data removed]"
     },
     "execution_count": 3,
     "metadata": {
      "image/png": {
       "height": 284,
       "width": 372
      }
     },
     "output_type": "execute_result"
    }
   ],
   "source": [
    "def plotstanh(x):\n",
    "    font = {\"size\":18}\n",
    "    plt.title(\"Taylor Series Expansion Comparison\")\n",
    "    plt.xlabel(\"x\", fontdict = font )\n",
    "    #tanh = ta.tanh(x)\n",
    "    x, approx0 = ta.taylor(x,ta.tanh(x),500,0)\n",
    "    x, approx1 = ta.taylor(x,ta.tanh(x),500,1)\n",
    "    x, approx2 = ta.taylor(x,ta.tanh(x),500,2)\n",
    "    x, approx3 = ta.taylor(x,ta.tanh(x),500,3)\n",
    "    x, approx4 = ta.taylor(x,ta.tanh(x),500,4)\n",
    "    x, approx5 = ta.taylor(x,ta.tanh(x),500,5)\n",
    "    #Plot the three functions with appropriate labels for legend\n",
    "    plt.plot(x, ta.tanh(x), color = \"green\", label = \"tanh(x)\")\n",
    "    plt.plot(x, approx0, color = \"blue\", label = \"n=0\")\n",
    "    plt.plot(x, approx1, color = \"red\", label = \"n=1\")\n",
    "    plt.plot(x, approx2, color = \"orange\", label = \"n=2\")\n",
    "    plt.plot(x, approx3, color = \"olive\", label = \"n=3\")\n",
    "    plt.plot(x, approx4, color = \"purple\", label = \"n=4\")\n",
    "    #plt.plot(x, approx5, color = \"pink\", label = \"n=5\")\n",
    "    plt.axis([-9,9,-1.4,7])\n",
    "    plt.legend(loc = \"lower center\")\n",
    "    #Add markers\n",
    "    #plt.scatter([0,],[approx0[500]], 50, color ='blue')\n",
    "    #plt.scatter([0,],[approx1[500]], 50, color ='red')\n",
    "    #plt.scatter([0,],[approx2[500]], 50, color ='orange')\n",
    "    #plt.scatter([0,],[approx3[500]], 50, color ='olive')\n",
    "    #plt.scatter([0,],[approx4[500]], 50, color ='purple')\n",
    "    #plt.scatter([0,],[approx5[500]], 50, color ='pink')\n",
    "    #Add arrow\n",
    "    #plt.annotate(r'$\\pi$', xy = (t,gaussian(t)),xycoords='data', xytext=(+10, +30), textcoords='offset points', fontsize=16,\n",
    "    #arrowprops=dict(arrowstyle=\"->\", connectionstyle=\"arc3,rad=.2\"))\n",
    "plotstanh(x)"
   ]
  },
  {
   "cell_type": "code",
   "execution_count": 0,
   "metadata": {
    "collapsed": false
   },
   "outputs": [
   ],
   "source": [
    "tanh = ta.tanh(x)\n",
    "print (tanh[500])"
   ]
  },
  {
   "cell_type": "code",
   "execution_count": 0,
   "metadata": {
    "collapsed": false
   },
   "outputs": [
   ],
   "source": [
    ", $f_3(x)=\\frac{1}{x}$,and the Heaviside Theta function ($f_4(x)= {0, x<0; 1/2, x=1/2; 1, x>0})$"
   ]
  }
 ],
 "metadata": {
  "kernelspec": {
   "display_name": "Python 3 (Anaconda)",
   "language": "python",
   "name": "anaconda3"
  },
  "language_info": {
   "codemirror_mode": {
    "name": "ipython",
    "version": 3
   },
   "file_extension": ".py",
   "mimetype": "text/x-python",
   "name": "python",
   "nbconvert_exporter": "python",
   "pygments_lexer": "ipython3",
   "version": "3.5.5"
  }
 },
 "nbformat": 4,
 "nbformat_minor": 0
}